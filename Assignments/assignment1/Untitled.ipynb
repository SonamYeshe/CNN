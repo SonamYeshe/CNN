{
 "cells": [
  {
   "cell_type": "code",
   "execution_count": 1,
   "metadata": {},
   "outputs": [
    {
     "name": "stdout",
     "output_type": "stream",
     "text": [
      "(2, 5)\n",
      "285\n"
     ]
    }
   ],
   "source": [
    "import numpy as np\n",
    "mask = list(range(10))\n",
    "mask = np.reshape(mask, (5,2))\n",
    "mask = np.reshape(mask, (2, -1))\n",
    "print(mask.shape)\n",
    "print(np.sum(mask*mask))"
   ]
  },
  {
   "cell_type": "code",
   "execution_count": 16,
   "metadata": {},
   "outputs": [
    {
     "name": "stdout",
     "output_type": "stream",
     "text": [
      "Ford\n"
     ]
    }
   ],
   "source": [
    "thisdict = {\n",
    "  \"brand\": \"Ford\",\n",
    "  \"model\": \"Mustang\",\n",
    "  \"year\": 1964\n",
    "}\n",
    "print(thisdict[\"brand\"])"
   ]
  },
  {
   "cell_type": "code",
   "execution_count": 33,
   "metadata": {},
   "outputs": [
    {
     "name": "stdout",
     "output_type": "stream",
     "text": [
      "[[ 0  1  2  3  4  5  6  7  8  9]\n",
      " [10 11 12 13 14 15 16 17 18 19]\n",
      " [20 21 22 23 24 25 26 27 28 29]]\n",
      "[20 21 22 23 24 25 26 27 28 29]\n",
      "[ 2 12 22]\n"
     ]
    }
   ],
   "source": [
    "mat1 = list(range(30))\n",
    "mat1 = np.reshape(mat1, (3,10))\n",
    "print(mat1)\n",
    "print(mat1[2])\n",
    "print(mat1[:,2])"
   ]
  },
  {
   "cell_type": "code",
   "execution_count": 34,
   "metadata": {},
   "outputs": [
    {
     "name": "stdout",
     "output_type": "stream",
     "text": [
      "[[0, 0, 0], [0, 0, 0], [0, 0, 0], [0, 0, 0]]\n"
     ]
    }
   ],
   "source": [
    "N=3\n",
    "M=4\n",
    "res = [ [ 0 for i in range(N) ] for j in range(M) ] \n",
    "print(res)"
   ]
  },
  {
   "cell_type": "code",
   "execution_count": 18,
   "metadata": {},
   "outputs": [
    {
     "name": "stdout",
     "output_type": "stream",
     "text": [
      "[[0 1]]\n",
      "[[0 1]\n",
      " [2 3]\n",
      " [4 5]]\n",
      "[1 1 1]\n"
     ]
    },
    {
     "data": {
      "text/plain": [
       "9"
      ]
     },
     "execution_count": 18,
     "metadata": {},
     "output_type": "execute_result"
    }
   ],
   "source": [
    "import numpy as np\n",
    "mat1 = list(range(2))\n",
    "mat1 = np.reshape(mat1, (1,2))\n",
    "mat2 = list(range(6))\n",
    "mat2 = np.reshape(mat2, (3,2))\n",
    "print(mat1)\n",
    "print(mat2)\n",
    "print(np.argmax(mat2,1))\n",
    "\n",
    "np.sum(mat2, axis=1)[2]"
   ]
  },
  {
   "cell_type": "code",
   "execution_count": 120,
   "metadata": {},
   "outputs": [
    {
     "name": "stdout",
     "output_type": "stream",
     "text": [
      "[(1e-07, 20000.0), (1e-07, 25000.0), (1e-07, 30000.0), (1e-07, 35000.0), (1e-07, 40000.0), (1e-07, 45000.0), (1e-07, 50000.0), (1e-07, 60000.0), (1e-06, 20000.0), (1e-06, 25000.0), (1e-06, 30000.0), (1e-06, 35000.0), (1e-06, 40000.0), (1e-06, 45000.0), (1e-06, 50000.0), (1e-06, 60000.0)]\n"
     ]
    }
   ],
   "source": [
    "learning_rates = [1e-7, 1e-6]\n",
    "regularization_strengths = [2e4, 2.5e4, 3e4, 3.5e4, 4e4, 4.5e4, 5e4, 6e4]\n",
    "grid_search = [ (lr,rg) for lr in learning_rates for rg in regularization_strengths ]\n",
    "print(grid_search)"
   ]
  },
  {
   "cell_type": "code",
   "execution_count": 9,
   "metadata": {},
   "outputs": [
    {
     "data": {
      "text/plain": [
       "[5, 6, 7, 8, 9]"
      ]
     },
     "execution_count": 9,
     "metadata": {},
     "output_type": "execute_result"
    }
   ],
   "source": [
    "list(range(5,10))"
   ]
  },
  {
   "cell_type": "code",
   "execution_count": 63,
   "metadata": {},
   "outputs": [
    {
     "data": {
      "text/plain": [
       "array([[-1,  0],\n",
       "       [-1,  0]])"
      ]
     },
     "execution_count": 63,
     "metadata": {},
     "output_type": "execute_result"
    }
   ],
   "source": [
    "mat1 = [[1,2],[3,4]]\n",
    "np.exp(mat1)\n",
    "\n",
    "mat2=np.reshape(mat1,[2,2])\n",
    "mat3=np.max(mat2, axis=1)[np.newaxis]\n",
    "mat3=np.transpose(mat3)\n",
    "mat2-mat3"
   ]
  },
  {
   "cell_type": "code",
   "execution_count": 80,
   "metadata": {},
   "outputs": [
    {
     "data": {
      "text/plain": [
       "array([0.33333333, 0.57142857])"
      ]
     },
     "execution_count": 80,
     "metadata": {},
     "output_type": "execute_result"
    }
   ],
   "source": [
    "mat1 = [[1,2],[3,4]]\n",
    "mat1=np.reshape(mat1,[2,2])\n",
    "mat2 = np.arange(2)\n",
    "mat3 = [0,1]\n",
    "\n",
    "mat4=mat1[mat2,mat3]\n",
    "mat5=np.sum(mat1, axis=1)\n",
    "mat4/mat5\n"
   ]
  },
  {
   "cell_type": "code",
   "execution_count": 3,
   "metadata": {},
   "outputs": [
    {
     "data": {
      "text/plain": [
       "array([[2, 2],\n",
       "       [3, 4]])"
      ]
     },
     "execution_count": 3,
     "metadata": {},
     "output_type": "execute_result"
    }
   ],
   "source": [
    "a = np.array([[1,2],[3,4]])\n",
    "a = a.reshape(2,2)\n",
    "np.maximum(a,2)"
   ]
  }
 ],
 "metadata": {
  "kernelspec": {
   "display_name": "Python 3",
   "language": "python",
   "name": "python3"
  },
  "language_info": {
   "codemirror_mode": {
    "name": "ipython",
    "version": 3
   },
   "file_extension": ".py",
   "mimetype": "text/x-python",
   "name": "python",
   "nbconvert_exporter": "python",
   "pygments_lexer": "ipython3",
   "version": "3.7.1"
  }
 },
 "nbformat": 4,
 "nbformat_minor": 2
}
